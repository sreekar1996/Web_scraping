{
 "cells": [
  {
   "cell_type": "markdown",
   "metadata": {},
   "source": [
    "# Web Scraping"
   ]
  },
  {
   "cell_type": "code",
   "execution_count": 1,
   "metadata": {},
   "outputs": [],
   "source": [
    "url='https://bit.ly/2QjOT2Z'"
   ]
  },
  {
   "cell_type": "code",
   "execution_count": 6,
   "metadata": {},
   "outputs": [
    {
     "data": {
      "text/plain": [
       "'C:\\\\Users\\\\sreekar chidurala\\\\Desktop\\\\text mining'"
      ]
     },
     "execution_count": 6,
     "metadata": {},
     "output_type": "execute_result"
    }
   ],
   "source": [
    "import os\n",
    "os.getcwd()"
   ]
  },
  {
   "cell_type": "code",
   "execution_count": 7,
   "metadata": {},
   "outputs": [
    {
     "name": "stdout",
     "output_type": "stream",
     "text": [
      "Collecting selenium\n",
      "  Downloading https://files.pythonhosted.org/packages/80/d6/4294f0b4bce4de0abf13e17190289f9d0613b0a44e5dd6a7f5ca98459853/selenium-3.141.0-py2.py3-none-any.whl (904kB)\n",
      "Requirement already satisfied: urllib3 in c:\\users\\sreekar chidurala\\anaconda3\\lib\\site-packages (from selenium) (1.23)\n",
      "Installing collected packages: selenium\n",
      "Successfully installed selenium-3.141.0\n"
     ]
    }
   ],
   "source": [
    "!pip install selenium"
   ]
  },
  {
   "cell_type": "code",
   "execution_count": 9,
   "metadata": {},
   "outputs": [],
   "source": [
    "from selenium import webdriver\n",
    "browser=webdriver.Chrome(\"Chromedriver.exe\")"
   ]
  },
  {
   "cell_type": "code",
   "execution_count": 10,
   "metadata": {},
   "outputs": [],
   "source": [
    "browser.get(url)"
   ]
  },
  {
   "cell_type": "code",
   "execution_count": 14,
   "metadata": {},
   "outputs": [
    {
     "data": {
      "text/plain": [
       "25"
      ]
     },
     "execution_count": 14,
     "metadata": {},
     "output_type": "execute_result"
    }
   ],
   "source": [
    "parent_tags=browser.find_elements_by_css_selector('li.job-listing')\n",
    "len(parent_tags)\n"
   ]
  },
  {
   "cell_type": "code",
   "execution_count": 46,
   "metadata": {},
   "outputs": [],
   "source": [
    "\n",
    "import pandas as pd\n",
    "import bs4"
   ]
  },
  {
   "cell_type": "code",
   "execution_count": 57,
   "metadata": {},
   "outputs": [],
   "source": [
    "jobs=pd.DataFrame()\n",
    "for job in parent_tags:\n",
    "    title_tag=job.find_element_by_css_selector('span.job-title-text')\n",
    "    #print(title_tag)\n",
    "    title=title_tag.get_attribute('innerHTML').replace('<b>' ,'').replace('</b>','')\n",
    "    \n",
    "    \n",
    "    company_tag=job.find_element_by_css_selector('span.company-name-text')\n",
    "    #print(title_tag)\n",
    "    company=company_tag.get_attribute('innerHTML')\n",
    "    \n",
    "    location_tag=job.find_element_by_css_selector('span.job-location')\n",
    "    location_tag=location_tag.find_element_by_css_selector('span')\n",
    "    #print(title_tag)\n",
    "    location=location_tag.get_attribute('innerHTML')\n",
    "    \n",
    "    \n",
    "    description_tag=job.find_element_by_css_selector('div.job-description')\n",
    "    description=description_tag.get_attribute('innerHTML')\n",
    "     #rep_str='...<span class=\"job-attribution\">'\n",
    "    description = bs4.BeautifulSoup(description,'html.parser').text\n",
    "    #print(title,'|',company, '|',location)\n",
    "    #print(description)\n",
    "    #print('-------')\n",
    "    \n",
    "    \n",
    "    \n",
    "    curr_job={\"title\":title,\n",
    "            'company':company,\n",
    "            'location':location,\n",
    "            'description':description}\n",
    "    jobs=jobs.append(curr_job,ignore_index=True)\n",
    "    \n",
    "    "
   ]
  },
  {
   "cell_type": "code",
   "execution_count": 58,
   "metadata": {},
   "outputs": [
    {
     "data": {
      "text/html": [
       "<div>\n",
       "<style scoped>\n",
       "    .dataframe tbody tr th:only-of-type {\n",
       "        vertical-align: middle;\n",
       "    }\n",
       "\n",
       "    .dataframe tbody tr th {\n",
       "        vertical-align: top;\n",
       "    }\n",
       "\n",
       "    .dataframe thead th {\n",
       "        text-align: right;\n",
       "    }\n",
       "</style>\n",
       "<table border=\"1\" class=\"dataframe\">\n",
       "  <thead>\n",
       "    <tr style=\"text-align: right;\">\n",
       "      <th></th>\n",
       "      <th>company</th>\n",
       "      <th>description</th>\n",
       "      <th>location</th>\n",
       "      <th>title</th>\n",
       "    </tr>\n",
       "  </thead>\n",
       "  <tbody>\n",
       "    <tr>\n",
       "      <th>0</th>\n",
       "      <td>YASH Technologies</td>\n",
       "      <td>YASH Technologies, a leading enterprise busine...</td>\n",
       "      <td>Plot No. 23/1, IT &amp;amp; ITES MIDC, , Phase-3, ...</td>\n",
       "      <td>Data Science Architect</td>\n",
       "    </tr>\n",
       "    <tr>\n",
       "      <th>1</th>\n",
       "      <td>Accenture in India</td>\n",
       "      <td>We are looking for someone who has a comprehen...</td>\n",
       "      <td>Bangalore, IN</td>\n",
       "      <td>Data Science Specialist</td>\n",
       "    </tr>\n",
       "    <tr>\n",
       "      <th>2</th>\n",
       "      <td>Swiggy</td>\n",
       "      <td>The Data Science team is a team of scientists ...</td>\n",
       "      <td>Bengaluru, Karnataka, India</td>\n",
       "      <td>Data Science Intern</td>\n",
       "    </tr>\n",
       "    <tr>\n",
       "      <th>3</th>\n",
       "      <td>Accenture in India</td>\n",
       "      <td>Job Requirements : 1 Responsibilities :A:Manag...</td>\n",
       "      <td>Mumbai, IN</td>\n",
       "      <td>Data Science for Banking</td>\n",
       "    </tr>\n",
       "    <tr>\n",
       "      <th>4</th>\n",
       "      <td>Biz2Credit</td>\n",
       "      <td>Must demonstrate Macro and Micro level skills ...</td>\n",
       "      <td>Noida, Uttar Pradesh, India</td>\n",
       "      <td>Head - Data Science and Analytics</td>\n",
       "    </tr>\n",
       "    <tr>\n",
       "      <th>5</th>\n",
       "      <td>Talentica Software</td>\n",
       "      <td>Hands-on experience with use of standard natur...</td>\n",
       "      <td>Pune, Maharashtra, India</td>\n",
       "      <td>Data Science Expert-NLP</td>\n",
       "    </tr>\n",
       "    <tr>\n",
       "      <th>6</th>\n",
       "      <td>Indus Insights</td>\n",
       "      <td>Indus Insights is looking for top notch talent...</td>\n",
       "      <td>805 Tower A Spaze TechPark Sohna Road, Gurgaon...</td>\n",
       "      <td>Data Science Associate</td>\n",
       "    </tr>\n",
       "    <tr>\n",
       "      <th>7</th>\n",
       "      <td>Indus Insights</td>\n",
       "      <td>Indus Insights is looking for top-notch profes...</td>\n",
       "      <td>805 Tower A Spaze TechPark Sohna Road, Gurgaon...</td>\n",
       "      <td>Data Science Manager</td>\n",
       "    </tr>\n",
       "    <tr>\n",
       "      <th>8</th>\n",
       "      <td>Hewlett Packard Enterprise</td>\n",
       "      <td>Strong Microsoft Excel, Access and PowerPoint ...</td>\n",
       "      <td>Bangalore, IN</td>\n",
       "      <td>Global Operations Data Science Consultant</td>\n",
       "    </tr>\n",
       "    <tr>\n",
       "      <th>9</th>\n",
       "      <td>Arnold Consulting Private Limited</td>\n",
       "      <td>We are looking for outstanding machine learnin...</td>\n",
       "      <td>Bengaluru Area, India</td>\n",
       "      <td>Data Scientist</td>\n",
       "    </tr>\n",
       "    <tr>\n",
       "      <th>10</th>\n",
       "      <td>People Interactive</td>\n",
       "      <td>To achieve that, we are looking for a data-sci...</td>\n",
       "      <td>Ground Floor, Film Centre Bldg Tardeo Road, Mu...</td>\n",
       "      <td>Product Manager (Data Science)</td>\n",
       "    </tr>\n",
       "    <tr>\n",
       "      <th>11</th>\n",
       "      <td>Amazon</td>\n",
       "      <td>The successful candidate will have an establis...</td>\n",
       "      <td>Bangalore, IN</td>\n",
       "      <td>Manager, Research Data Science</td>\n",
       "    </tr>\n",
       "    <tr>\n",
       "      <th>12</th>\n",
       "      <td>Genpact</td>\n",
       "      <td>We are looking for a candidate who is technolo...</td>\n",
       "      <td>Bengaluru, Karnataka, India</td>\n",
       "      <td>AI Engineering Intern with Data Science and In...</td>\n",
       "    </tr>\n",
       "    <tr>\n",
       "      <th>13</th>\n",
       "      <td>ZS</td>\n",
       "      <td>The common denominator in an individual's succ...</td>\n",
       "      <td>Bangalore, IN</td>\n",
       "      <td>Data Science Associate (Bengaluru, India)</td>\n",
       "    </tr>\n",
       "    <tr>\n",
       "      <th>14</th>\n",
       "      <td>Infosys</td>\n",
       "      <td>Responsible for successful delivery of Advance...</td>\n",
       "      <td>Bangalore, IN</td>\n",
       "      <td>Data Science modelers</td>\n",
       "    </tr>\n",
       "    <tr>\n",
       "      <th>15</th>\n",
       "      <td>Elucidata</td>\n",
       "      <td>Elucidata is seeking a data science enthusiast...</td>\n",
       "      <td>South West Delhi, Delhi, India</td>\n",
       "      <td>Data Scientist</td>\n",
       "    </tr>\n",
       "    <tr>\n",
       "      <th>16</th>\n",
       "      <td>Accenture in India</td>\n",
       "      <td>We are looking for someone who has a comprehen...</td>\n",
       "      <td>Bangalore, IN</td>\n",
       "      <td>Data Science Associate Manager</td>\n",
       "    </tr>\n",
       "    <tr>\n",
       "      <th>17</th>\n",
       "      <td>Obsessory</td>\n",
       "      <td>The ideal candidate would have. We are looking...</td>\n",
       "      <td>Bengaluru Area, India</td>\n",
       "      <td>Fresher Opportunities - Java/Scala/Data Scienc...</td>\n",
       "    </tr>\n",
       "    <tr>\n",
       "      <th>18</th>\n",
       "      <td>Accenture in India</td>\n",
       "      <td>Job Requirements : Role: Data Scientist Must H...</td>\n",
       "      <td>Hyderabad, IN</td>\n",
       "      <td>Data Science (Jupyter/Azure ML/MatLab)</td>\n",
       "    </tr>\n",
       "    <tr>\n",
       "      <th>19</th>\n",
       "      <td>Live Connections</td>\n",
       "      <td>At least 5+ years of work experience in data s...</td>\n",
       "      <td>Mumbai, Maharashtra, India</td>\n",
       "      <td>Data Scientist/Data Analytics</td>\n",
       "    </tr>\n",
       "    <tr>\n",
       "      <th>20</th>\n",
       "      <td>Talentica Software</td>\n",
       "      <td>Hands-on experience with use of standard image...</td>\n",
       "      <td>Pune, Maharashtra, India</td>\n",
       "      <td>Data Science Expert-Computer Vision</td>\n",
       "    </tr>\n",
       "    <tr>\n",
       "      <th>21</th>\n",
       "      <td>ZS</td>\n",
       "      <td>The Data Science Consultant will play a critic...</td>\n",
       "      <td>Bangalore, IN</td>\n",
       "      <td>Data Science Consultant (Bengaluru, India)</td>\n",
       "    </tr>\n",
       "    <tr>\n",
       "      <th>22</th>\n",
       "      <td>Mondelēz International</td>\n",
       "      <td>Strong quantitative skillset with experience i...</td>\n",
       "      <td>Mumbai, IN</td>\n",
       "      <td>Data Science - Cocoa And Chocolate</td>\n",
       "    </tr>\n",
       "    <tr>\n",
       "      <th>23</th>\n",
       "      <td>KPMG India</td>\n",
       "      <td>Masters, or PhD in Computer Science, Statistic...</td>\n",
       "      <td>Bangalore, IN</td>\n",
       "      <td>KGS | Management Consulting | Analytics | Data...</td>\n",
       "    </tr>\n",
       "    <tr>\n",
       "      <th>24</th>\n",
       "      <td>ZS</td>\n",
       "      <td>The common denominator in an individual's succ...</td>\n",
       "      <td>Delhi, IN</td>\n",
       "      <td>Data Science Associate Consultant (New Delhi, ...</td>\n",
       "    </tr>\n",
       "  </tbody>\n",
       "</table>\n",
       "</div>"
      ],
      "text/plain": [
       "                              company  \\\n",
       "0                   YASH Technologies   \n",
       "1                  Accenture in India   \n",
       "2                              Swiggy   \n",
       "3                  Accenture in India   \n",
       "4                          Biz2Credit   \n",
       "5                  Talentica Software   \n",
       "6                      Indus Insights   \n",
       "7                      Indus Insights   \n",
       "8          Hewlett Packard Enterprise   \n",
       "9   Arnold Consulting Private Limited   \n",
       "10                 People Interactive   \n",
       "11                             Amazon   \n",
       "12                            Genpact   \n",
       "13                                 ZS   \n",
       "14                            Infosys   \n",
       "15                         Elucidata    \n",
       "16                 Accenture in India   \n",
       "17                          Obsessory   \n",
       "18                 Accenture in India   \n",
       "19                   Live Connections   \n",
       "20                 Talentica Software   \n",
       "21                                 ZS   \n",
       "22             Mondelēz International   \n",
       "23                         KPMG India   \n",
       "24                                 ZS   \n",
       "\n",
       "                                          description  \\\n",
       "0   YASH Technologies, a leading enterprise busine...   \n",
       "1   We are looking for someone who has a comprehen...   \n",
       "2   The Data Science team is a team of scientists ...   \n",
       "3   Job Requirements : 1 Responsibilities :A:Manag...   \n",
       "4   Must demonstrate Macro and Micro level skills ...   \n",
       "5   Hands-on experience with use of standard natur...   \n",
       "6   Indus Insights is looking for top notch talent...   \n",
       "7   Indus Insights is looking for top-notch profes...   \n",
       "8   Strong Microsoft Excel, Access and PowerPoint ...   \n",
       "9   We are looking for outstanding machine learnin...   \n",
       "10  To achieve that, we are looking for a data-sci...   \n",
       "11  The successful candidate will have an establis...   \n",
       "12  We are looking for a candidate who is technolo...   \n",
       "13  The common denominator in an individual's succ...   \n",
       "14  Responsible for successful delivery of Advance...   \n",
       "15  Elucidata is seeking a data science enthusiast...   \n",
       "16  We are looking for someone who has a comprehen...   \n",
       "17  The ideal candidate would have. We are looking...   \n",
       "18  Job Requirements : Role: Data Scientist Must H...   \n",
       "19  At least 5+ years of work experience in data s...   \n",
       "20  Hands-on experience with use of standard image...   \n",
       "21  The Data Science Consultant will play a critic...   \n",
       "22  Strong quantitative skillset with experience i...   \n",
       "23  Masters, or PhD in Computer Science, Statistic...   \n",
       "24  The common denominator in an individual's succ...   \n",
       "\n",
       "                                             location  \\\n",
       "0   Plot No. 23/1, IT &amp; ITES MIDC, , Phase-3, ...   \n",
       "1                                       Bangalore, IN   \n",
       "2                         Bengaluru, Karnataka, India   \n",
       "3                                          Mumbai, IN   \n",
       "4                         Noida, Uttar Pradesh, India   \n",
       "5                            Pune, Maharashtra, India   \n",
       "6   805 Tower A Spaze TechPark Sohna Road, Gurgaon...   \n",
       "7   805 Tower A Spaze TechPark Sohna Road, Gurgaon...   \n",
       "8                                       Bangalore, IN   \n",
       "9                               Bengaluru Area, India   \n",
       "10  Ground Floor, Film Centre Bldg Tardeo Road, Mu...   \n",
       "11                                      Bangalore, IN   \n",
       "12                        Bengaluru, Karnataka, India   \n",
       "13                                      Bangalore, IN   \n",
       "14                                      Bangalore, IN   \n",
       "15                     South West Delhi, Delhi, India   \n",
       "16                                      Bangalore, IN   \n",
       "17                              Bengaluru Area, India   \n",
       "18                                      Hyderabad, IN   \n",
       "19                         Mumbai, Maharashtra, India   \n",
       "20                           Pune, Maharashtra, India   \n",
       "21                                      Bangalore, IN   \n",
       "22                                         Mumbai, IN   \n",
       "23                                      Bangalore, IN   \n",
       "24                                          Delhi, IN   \n",
       "\n",
       "                                                title  \n",
       "0                              Data Science Architect  \n",
       "1                             Data Science Specialist  \n",
       "2                                 Data Science Intern  \n",
       "3                            Data Science for Banking  \n",
       "4                   Head - Data Science and Analytics  \n",
       "5                             Data Science Expert-NLP  \n",
       "6                              Data Science Associate  \n",
       "7                                Data Science Manager  \n",
       "8           Global Operations Data Science Consultant  \n",
       "9                                      Data Scientist  \n",
       "10                     Product Manager (Data Science)  \n",
       "11                     Manager, Research Data Science  \n",
       "12  AI Engineering Intern with Data Science and In...  \n",
       "13          Data Science Associate (Bengaluru, India)  \n",
       "14                              Data Science modelers  \n",
       "15                                     Data Scientist  \n",
       "16                     Data Science Associate Manager  \n",
       "17  Fresher Opportunities - Java/Scala/Data Scienc...  \n",
       "18             Data Science (Jupyter/Azure ML/MatLab)  \n",
       "19                      Data Scientist/Data Analytics  \n",
       "20                Data Science Expert-Computer Vision  \n",
       "21         Data Science Consultant (Bengaluru, India)  \n",
       "22                 Data Science - Cocoa And Chocolate  \n",
       "23  KGS | Management Consulting | Analytics | Data...  \n",
       "24  Data Science Associate Consultant (New Delhi, ...  "
      ]
     },
     "execution_count": 58,
     "metadata": {},
     "output_type": "execute_result"
    }
   ],
   "source": [
    "jobs"
   ]
  },
  {
   "cell_type": "code",
   "execution_count": 60,
   "metadata": {},
   "outputs": [
    {
     "data": {
      "text/plain": [
       "<matplotlib.image.AxesImage at 0x19b4211e0f0>"
      ]
     },
     "execution_count": 60,
     "metadata": {},
     "output_type": "execute_result"
    },
    {
     "data": {
      "image/png": "[encoded data removed]",
      "text/plain": [
       "<Figure size 432x288 with 1 Axes>"
      ]
     },
     "metadata": {
      "needs_background": "light"
     },
     "output_type": "display_data"
    }
   ],
   "source": [
    "import matplotlib.pyplot as plt\n",
    "from wordcloud import WordCloud\n",
    "wc = WordCloud().generate(''.join(jobs['description']))\n",
    "plt.imshow(wc)"
   ]
  },
  {
   "cell_type": "markdown",
   "metadata": {},
   "source": [
    "# Text Summarization"
   ]
  },
  {
   "cell_type": "code",
   "execution_count": 61,
   "metadata": {},
   "outputs": [
    {
     "name": "stdout",
     "output_type": "stream",
     "text": [
      "Collecting sumy\n",
      "  Downloading https://files.pythonhosted.org/packages/2f/0e/30ebd2fb0925537a3b2f9fccf0a13171ba557e9450b1702d278159d3c592/sumy-0.7.0-py2.py3-none-any.whl (78kB)\n",
      "Collecting breadability>=0.1.20 (from sumy)\n",
      "  Downloading https://files.pythonhosted.org/packages/ad/2d/bb6c9b381e6b6a432aa2ffa8f4afdb2204f1ff97cfcc0766a5b7683fec43/breadability-0.1.20.tar.gz\n",
      "Collecting docopt<0.7,>=0.6.1 (from sumy)\n",
      "  Downloading https://files.pythonhosted.org/packages/a2/55/8f8cab2afd404cf578136ef2cc5dfb50baa1761b68c9da1fb1e4eed343c9/docopt-0.6.2.tar.gz\n",
      "Requirement already satisfied: nltk>=3.0.2 in c:\\users\\sreekar chidurala\\anaconda3\\lib\\site-packages (from sumy) (3.3)\n",
      "Requirement already satisfied: requests>=2.7.0 in c:\\users\\sreekar chidurala\\anaconda3\\lib\\site-packages (from sumy) (2.19.1)\n",
      "Requirement already satisfied: chardet in c:\\users\\sreekar chidurala\\anaconda3\\lib\\site-packages (from breadability>=0.1.20->sumy) (3.0.4)\n",
      "Requirement already satisfied: lxml>=2.0 in c:\\users\\sreekar chidurala\\anaconda3\\lib\\site-packages (from breadability>=0.1.20->sumy) (4.2.5)\n",
      "Requirement already satisfied: six in c:\\users\\sreekar chidurala\\anaconda3\\lib\\site-packages (from nltk>=3.0.2->sumy) (1.11.0)\n",
      "Requirement already satisfied: idna<2.8,>=2.5 in c:\\users\\sreekar chidurala\\anaconda3\\lib\\site-packages (from requests>=2.7.0->sumy) (2.7)\n",
      "Requirement already satisfied: urllib3<1.24,>=1.21.1 in c:\\users\\sreekar chidurala\\anaconda3\\lib\\site-packages (from requests>=2.7.0->sumy) (1.23)\n",
      "Requirement already satisfied: certifi>=2017.4.17 in c:\\users\\sreekar chidurala\\anaconda3\\lib\\site-packages (from requests>=2.7.0->sumy) (2018.11.29)\n",
      "Building wheels for collected packages: breadability, docopt\n",
      "  Running setup.py bdist_wheel for breadability: started\n",
      "  Running setup.py bdist_wheel for breadability: finished with status 'done'\n",
      "  Stored in directory: C:\\Users\\sreekar chidurala\\AppData\\Local\\pip\\Cache\\wheels\\5a\\4d\\a1\\510b12c5e65e0b2b3ce539b2af66da0fc57571e528924f4a52\n",
      "  Running setup.py bdist_wheel for docopt: started\n",
      "  Running setup.py bdist_wheel for docopt: finished with status 'done'\n",
      "  Stored in directory: C:\\Users\\sreekar chidurala\\AppData\\Local\\pip\\Cache\\wheels\\9b\\04\\dd\\7daf4150b6d9b12949298737de9431a324d4b797ffd63f526e\n",
      "Successfully built breadability docopt\n",
      "Installing collected packages: docopt, breadability, sumy\n",
      "Successfully installed breadability-0.1.20 docopt-0.6.2 sumy-0.7.0\n"
     ]
    }
   ],
   "source": [
    "!pip install sumy"
   ]
  },
  {
   "cell_type": "code",
   "execution_count": 62,
   "metadata": {},
   "outputs": [],
   "source": [
    "from sumy.parsers.plaintext import PlaintextParser\n",
    "from sumy.nlp.tokenizers import Tokenizer\n"
   ]
  },
  {
   "cell_type": "code",
   "execution_count": 64,
   "metadata": {},
   "outputs": [],
   "source": [
    "from sumy.summarizers.lex_rank import LexRankSummarizer"
   ]
  },
  {
   "cell_type": "code",
   "execution_count": 66,
   "metadata": {},
   "outputs": [],
   "source": [
    "url=\"https://www.livemint.com/Companies/b4LtGm53W966uRNUiVQQKL/Maggi-case-Supreme-Court-revives-classaction-suit-against.html?utm_campaign=fullarticle&utm_medium=referral&utm_source=inshorts\"\n",
    "browser.get(url)"
   ]
  },
  {
   "cell_type": "code",
   "execution_count": 72,
   "metadata": {},
   "outputs": [
    {
     "data": {
      "text/plain": [
       "12"
      ]
     },
     "execution_count": 72,
     "metadata": {},
     "output_type": "execute_result"
    }
   ],
   "source": [
    "div_tag = browser.find_element_by_css_selector('div.content')\n",
    "para_tags= div_tag.find_elements_by_css_selector('p')\n",
    "len(para_tags)"
   ]
  },
  {
   "cell_type": "code",
   "execution_count": 74,
   "metadata": {},
   "outputs": [],
   "source": [
    "sentences=''\n",
    "for para in para_tags:\n",
    "    para_text= para.get_attribute('innerHTML')\n",
    "    sentences= sentences+' '+ para_text\n",
    "    sentences=bs4.BeautifulSoup(sentences,'html.parser').text"
   ]
  },
  {
   "cell_type": "code",
   "execution_count": 76,
   "metadata": {},
   "outputs": [
    {
     "data": {
      "text/plain": [
       "' New Delhi: In a set'"
      ]
     },
     "execution_count": 76,
     "metadata": {},
     "output_type": "execute_result"
    }
   ],
   "source": [
    "sentences[:20]"
   ]
  },
  {
   "cell_type": "code",
   "execution_count": 78,
   "metadata": {},
   "outputs": [],
   "source": [
    "import nltk"
   ]
  },
  {
   "cell_type": "code",
   "execution_count": 79,
   "metadata": {},
   "outputs": [
    {
     "name": "stdout",
     "output_type": "stream",
     "text": [
      "[nltk_data] Downloading package punkt to C:\\Users\\sreekar\n",
      "[nltk_data]     chidurala\\AppData\\Roaming\\nltk_data...\n",
      "[nltk_data]   Unzipping tokenizers\\punkt.zip.\n"
     ]
    },
    {
     "data": {
      "text/plain": [
       "True"
      ]
     },
     "execution_count": 79,
     "metadata": {},
     "output_type": "execute_result"
    }
   ],
   "source": [
    "nltk.download('punkt')"
   ]
  },
  {
   "cell_type": "code",
   "execution_count": 89,
   "metadata": {},
   "outputs": [
    {
     "name": "stdout",
     "output_type": "stream",
     "text": [
      "New Delhi: In a setback to Nestle India Ltd, the Supreme Court on Thursday lifted a stay on the proceedings of a class-action suit filed by the central government against the maker of Maggi noodles in the apex consumer court.\n",
      "-----\n",
      "The National Consumer Disputes Redressal Commission (NCDRC) can now continue proceedings against Nestle India, based on  the results of tests of Maggi noodle samples conducted by the Central Food Technological Research Institute (CFTRI) in Mysuru.\n",
      "-----\n",
      "Maggi was banned by FSSAI on 5 June 2015 for five months for allegedly containing lead beyond permissible limits, forcing Nestle India to withdraw the product from the market.\n",
      "-----\n",
      "Nestle said that Maggi, which once enjoyed a 75% share of the market before the ban, clawed back to 60% in 2016.\n",
      "-----\n"
     ]
    }
   ],
   "source": [
    "parser=PlaintextParser(sentences,Tokenizer('english'))\n",
    "summarizer=LexRankSummarizer()\n",
    "summarized_sentences=summarizer(parser.document,4)\n",
    "\n",
    "for sentence in summarized_sentences:\n",
    "    print(sentence)\n",
    "    print('-----')\n"
   ]
  },
  {
   "cell_type": "code",
   "execution_count": null,
   "metadata": {},
   "outputs": [],
   "source": []
  },
  {
   "cell_type": "code",
   "execution_count": null,
   "metadata": {},
   "outputs": [],
   "source": []
  },
  {
   "cell_type": "code",
   "execution_count": null,
   "metadata": {},
   "outputs": [],
   "source": []
  },
  {
   "cell_type": "code",
   "execution_count": null,
   "metadata": {},
   "outputs": [],
   "source": []
  },
  {
   "cell_type": "code",
   "execution_count": null,
   "metadata": {},
   "outputs": [],
   "source": []
  },
  {
   "cell_type": "code",
   "execution_count": null,
   "metadata": {},
   "outputs": [],
   "source": []
  },
  {
   "cell_type": "code",
   "execution_count": null,
   "metadata": {},
   "outputs": [],
   "source": []
  }
 ],
 "metadata": {
  "kernelspec": {
   "display_name": "Python 3",
   "language": "python",
   "name": "python3"
  },
  "language_info": {
   "codemirror_mode": {
    "name": "ipython",
    "version": 3
   },
   "file_extension": ".py",
   "mimetype": "text/x-python",
   "name": "python",
   "nbconvert_exporter": "python",
   "pygments_lexer": "ipython3",
   "version": "3.7.0"
  }
 },
 "nbformat": 4,
 "nbformat_minor": 2
}
